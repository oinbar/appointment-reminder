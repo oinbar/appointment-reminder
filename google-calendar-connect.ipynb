{
 "cells": [
  {
   "cell_type": "code",
   "execution_count": 1,
   "metadata": {
    "collapsed": true
   },
   "outputs": [],
   "source": [
    "# $ pip install --upgrade google-api-python-client"
   ]
  },
  {
   "cell_type": "code",
   "execution_count": 1,
   "metadata": {
    "collapsed": false
   },
   "outputs": [
    {
     "ename": "NameError",
     "evalue": "name '__file__' is not defined",
     "output_type": "error",
     "traceback": [
      "\u001b[0;31m---------------------------------------------------------------------------\u001b[0m",
      "\u001b[0;31mNameError\u001b[0m                                 Traceback (most recent call last)",
      "\u001b[0;32m<ipython-input-1-b9750e0b042b>\u001b[0m in \u001b[0;36m<module>\u001b[0;34m()\u001b[0m\n\u001b[1;32m     33\u001b[0m \u001b[0mAPPLICATION_NAME\u001b[0m \u001b[0;34m=\u001b[0m \u001b[0;34m'Dr-Sivan-Reminder'\u001b[0m\u001b[0;34m\u001b[0m\u001b[0m\n\u001b[1;32m     34\u001b[0m \u001b[0;34m\u001b[0m\u001b[0m\n\u001b[0;32m---> 35\u001b[0;31m \u001b[0mPARAMS\u001b[0m \u001b[0;34m=\u001b[0m \u001b[0mjson\u001b[0m\u001b[0;34m.\u001b[0m\u001b[0mload\u001b[0m\u001b[0;34m(\u001b[0m\u001b[0mopen\u001b[0m\u001b[0;34m(\u001b[0m\u001b[0mos\u001b[0m\u001b[0;34m.\u001b[0m\u001b[0mpath\u001b[0m\u001b[0;34m.\u001b[0m\u001b[0mrealpath\u001b[0m\u001b[0;34m(\u001b[0m\u001b[0m__file__\u001b[0m\u001b[0;34m)\u001b[0m \u001b[0;34m+\u001b[0m \u001b[0;34m\"/params.json\"\u001b[0m\u001b[0;34m)\u001b[0m\u001b[0;34m)\u001b[0m\u001b[0;34m\u001b[0m\u001b[0m\n\u001b[0m\u001b[1;32m     36\u001b[0m \u001b[0;34m\u001b[0m\u001b[0m\n\u001b[1;32m     37\u001b[0m \u001b[0mnow\u001b[0m \u001b[0;34m=\u001b[0m \u001b[0mdatetime\u001b[0m\u001b[0;34m.\u001b[0m\u001b[0mdatetime\u001b[0m\u001b[0;34m.\u001b[0m\u001b[0mnow\u001b[0m\u001b[0;34m(\u001b[0m\u001b[0mpytz\u001b[0m\u001b[0;34m.\u001b[0m\u001b[0mtimezone\u001b[0m\u001b[0;34m(\u001b[0m\u001b[0mPARAMS\u001b[0m\u001b[0;34m[\u001b[0m\u001b[0;34m\"time_zone\"\u001b[0m\u001b[0;34m]\u001b[0m\u001b[0;34m)\u001b[0m\u001b[0;34m)\u001b[0m\u001b[0;34m\u001b[0m\u001b[0m\n",
      "\u001b[0;31mNameError\u001b[0m: name '__file__' is not defined"
     ]
    }
   ],
   "source": [
    "from __future__ import print_function\n",
    "import httplib2\n",
    "import os\n",
    "import re\n",
    "import traceback\n",
    "import json\n",
    "\n",
    "# date stuff\n",
    "import datetime\n",
    "from datetime import timedelta\n",
    "import pytz\n",
    "import dateutil.parser # $ pip install python-dateutil\n",
    "\n",
    "# for google cal\n",
    "from apiclient import discovery\n",
    "from oauth2client import client\n",
    "from oauth2client import tools\n",
    "from oauth2client.file import Storage\n",
    "from oauth2client.service_account import ServiceAccountCredentials\n",
    "\n",
    "# for twilio SMS\n",
    "from twilio.rest import TwilioRestClient\n",
    "\n",
    "# for email\n",
    "import smtplib\n",
    "from email.MIMEMultipart import MIMEMultipart\n",
    "from email.MIMEText import MIMEText\n",
    "\n",
    "# If modifying these scopes, delete your previously saved credentials\n",
    "# at ~/.credentials/calendar-python-quickstart.json\n",
    "SCOPES = ['https://www.googleapis.com/auth/calendar']\n",
    "CLIENT_SECRET_FILE = \"client_secret.json\"\n",
    "APPLICATION_NAME = 'Dr-Sivan-Reminder'\n",
    "\n",
    "PARAMS = json.load(open(\"params.json\"))\n",
    "\n",
    "now = datetime.datetime.now(pytz.timezone(PARAMS[\"time_zone\"]))\n",
    "\n",
    "if not PARAMS[\"admin_email\"]:\n",
    "    PARAMS[\"admin_email\"] = PARAMS[\"gmail_account\"]\n",
    "\n",
    "    \n",
    "def get_credentials():\n",
    "    \"\"\"Gets valid user credentials from storage.\n",
    "\n",
    "    If nothing has been stored, or if the stored credentials are invalid,\n",
    "    the OAuth2 flow is completed to obtain the new credentials.\n",
    "\n",
    "    Returns:\n",
    "        Credentials, the obtained credential.\n",
    "    \"\"\"\n",
    "    home_dir = os.path.expanduser('~')\n",
    "    credential_dir = os.path.join(home_dir, '.credentials')\n",
    "    if not os.path.exists(credential_dir):\n",
    "        os.makedirs(credential_dir)\n",
    "    credential_path = os.path.join(\n",
    "        credential_dir, 'calendar-python-quickstart.json')\n",
    "\n",
    "    store = Storage(credential_path)\n",
    "    credentials = store.get()\n",
    "    if not credentials or credentials.invalid:\n",
    "        print(\"need to initialize credentials\")\n",
    "    return credentials\n",
    "\n",
    "def build_service():\n",
    "    credentials = get_credentials()\n",
    "    http = credentials.authorize(httplib2.Http())\n",
    "    service = discovery.build('calendar', 'v3', http=http)    \n",
    "    return service\n",
    "    \n",
    "def get_events(n_events, calendar_id): \n",
    "    print('Getting %s upcomming events' % str(n_events))\n",
    "    service = build_service()    \n",
    "    eventsResult = service.events().list(\n",
    "        calendarId=calendar_id, \n",
    "        timeMin=now.isoformat(), \n",
    "        maxResults=n_events,\n",
    "        singleEvents=True,\n",
    "        orderBy='startTime').execute()    \n",
    "    return eventsResult\n",
    "\n",
    "def get_event_dtime(event_item):\n",
    "    s = event_item[\"start\"][\"dateTime\"]\n",
    "    dt = dateutil.parser.parse(s)\n",
    "    return dt\n",
    "\n",
    "def build_event_repr(event):\n",
    "    s = event[\"summary\"] + \" @ \" + str(get_event_dtime(event))[:19]\n",
    "    return s\n",
    "    \n",
    "def get_hours(notification):\n",
    "    print(\"parse hours from notification\")\n",
    "    keyword = \"hours:\"\n",
    "    if \"hours:\" not in notification:\n",
    "        print(\"hours not found, defaulting to 24\")\n",
    "        return 24\n",
    "    # get the string following the keyword + ':'\n",
    "    s = notification[notification.find(keyword)+len(keyword):]\n",
    "    # find the first number after keyword    \n",
    "    hours = re.findall(r'(\\d+(\\.\\d+)?)', notification)[0][0]\n",
    "    print(\"hours = %s\" % hours)\n",
    "    return hours\n",
    "        \n",
    "def get_email(notification):\n",
    "    print(\"parse email from notification\")\n",
    "    keyword = \"email:\"\n",
    "    # get the string following the keyword + ':'\n",
    "    s = notification[notification.find(keyword)+len(keyword):]\n",
    "    # find the first email after keyword    \n",
    "    email = re.findall(\n",
    "        r'\\b[A-Za-z0-9._%+-]+@[A-Za-z0-9.-]+\\.[A-Za-z]{2,6}\\b', \n",
    "         notification)\n",
    "    if email:\n",
    "        email = email[0]\n",
    "        print(\"email = %s\" % email)\n",
    "        return email\n",
    "    else:\n",
    "        print(\"email not found\")\n",
    "        return None\n",
    "\n",
    "def get_sms_num(notification):\n",
    "    print(\"parse email from notification\")\n",
    "    keyword = \"sms:\"\n",
    "    # get the string following the keyword + ':'\n",
    "    s = notification[notification.find(keyword)+len(keyword):]\n",
    "    s = re.sub(r'\\(|\\)|\\+|\\.|-', '', s).strip()\n",
    "    # find the first number after keyword    \n",
    "    num = re.findall(r'([0-9]{8,15})', s)\n",
    "    if num:\n",
    "        num = num[0]\n",
    "        # normalize number\n",
    "        if num[:1]=='1': num = num[1:]\n",
    "        print(\"sms num = %s\" % num)\n",
    "        return num\n",
    "    else:\n",
    "        print(\"sms num not found\")\n",
    "        return None\n",
    "\n",
    "def get_sent_status(notification):\n",
    "    print(\"parse sent status from notification\")\n",
    "    keyword = \"sent:\"\n",
    "    # get the string following the keyword + ':'\n",
    "    s = notification[notification.find(keyword)+len(keyword):]\n",
    "    yes_no = re.findall(r'(yes|no)', s.lower())\n",
    "    if yes_no:\n",
    "        print(\"sent = %s\" % yes_no[0])\n",
    "        return yes_no[0]\n",
    "    else:\n",
    "        print(\"sent status not found, defaulting to 'no'\")\n",
    "        return unicode(\"no\")\n",
    "\n",
    "def parse_vars_from_notification(notification, keywords=[\"hours\",\"email\",\"sms\",\"sent\"]):\n",
    "    print(\"parse vars from notification\")\n",
    "    d = {}\n",
    "    hours = get_hours(notification)\n",
    "    if hours: d[\"hours\"] = hours\n",
    "    email = get_email(notification)\n",
    "    if email: d[\"email\"] = email            \n",
    "    sms = get_sms_num(notification)\n",
    "    if sms: d[\"sms\"] = sms\n",
    "    sent = get_sent_status(notification)\n",
    "    if sent: d[\"sent\"] = sent\n",
    "    return d\n",
    "\n",
    "def parse_desc_from_event(event):\n",
    "    try:\n",
    "        print(\"parse description from event\")\n",
    "        desc = event[\"description\"]\n",
    "        assert(\"email:\" in desc or \"sms:\" in desc)\n",
    "        objs_raw = re.findall(r'\\{((\\s*?.*?)*)\\}', desc)        \n",
    "        objs_raw = [o[0] for o in objs_raw]\n",
    "        parsed_desc = [parse_vars_from_notification(o) for o in objs_raw]\n",
    "        print(\"parsed: \" + str(parsed_desc))\n",
    "        return parsed_desc\n",
    "    except:\n",
    "        print(\"No reminders found\")\n",
    "        return None\n",
    "    \n",
    "def rebuild_desc_from_parsed(parsed_desc):\n",
    "    s = \"\"\n",
    "    for parsed_reminder in parsed_desc:\n",
    "        s += \"{\\n\"\n",
    "        for k,v in parsed_reminder.iteritems():\n",
    "            s += str(k) + \": \" + str(v) + \",\\n\"\n",
    "        s += \"}\\n\"\n",
    "    return s\n",
    "\n",
    "def update_reminder_as_sent(calendar_id, event, parsed_desc, parsed_reminder):    \n",
    "    i = parsed_desc.index(parsed_reminder)\n",
    "    event_id = event[\"id\"]\n",
    "    parsed_desc[i][\"sent\"] = \"yes\"\n",
    "    \n",
    "    print(\"update reminder: \\n event: %s\\n reminder: %s\" % (build_event_repr(event), parsed_desc))\n",
    "    updated_desc = rebuild_desc_from_parsed(parsed_desc)\n",
    "    event[\"description\"] = updated_desc\n",
    "    service = build_service()\n",
    "    service.events().update(calendarId=calendar_id, \n",
    "                            eventId=event_id, \n",
    "                            body=event).execute()       \n",
    "    \n",
    "def send_sms(to, body):\n",
    "    print(\"send sms to %s\" % to)\n",
    "    if str(to)[:1]!=\"+1\": to = \"+1\"+str(to)\n",
    "    client = TwilioRestClient(\n",
    "        PARAMS[\"twilio_account_sid\"], PARAMS[\"twilio_auth_token\"])\n",
    "    client.messages.create(to=str(to), from_=PARAMS[\"twilio_number\"], body=body)\n",
    "    \n",
    "def send_email(to_email, subj, body):\n",
    "    print(\"send email %s to %s\" % (subj, to_email))\n",
    "    try:\n",
    "        msg = MIMEMultipart()\n",
    "        msg['From'] = APPLICATION_NAME\n",
    "        msg['To'] = to_email\n",
    "        msg['Subject'] = subj\n",
    "        msg.attach(MIMEText(body, 'plain'))\n",
    "        server = smtplib.SMTP('smtp.gmail.com', 587)\n",
    "        server.starttls()\n",
    "        server.login(PARAMS[\"gmail_account\"], PARAMS[\"gmail_pass\"])\n",
    "        text = msg.as_string()\n",
    "        server.sendmail(PARAMS[\"gmail_account\"], to_email, text)\n",
    "        server.quit()\n",
    "    except Exception as e:\n",
    "        if \"SMTPAuthenticationError\" in str(e):\n",
    "            print(\"Unable to login to %s. Enable authentication from %s\" % \n",
    "                  (PARAMS[\"gmail_account\"], \n",
    "                   \"https://www.google.com/settings/security/lesssecureapps\"))\n",
    "        print(format_exc())\n",
    "\n",
    "def is_time_to_send(event, parsed_reminder):\n",
    "    event_start = get_event_dtime(event)\n",
    "    hours = parsed_reminder[\"hours\"]\n",
    "    if event_start - timedelta(hours=float(hours)) <= now: \n",
    "        return True\n",
    "    else:\n",
    "        return False\n",
    "\n",
    "def should_send_reminder(event, parsed_reminder):\n",
    "    print(\"should send reminder?\")\n",
    "    already_sent = True if parsed_reminder[\"sent\"]==\"yes\" else False\n",
    "    time_to_send = is_time_to_send(event, parsed_reminder)\n",
    "    if time_to_send and not already_sent:\n",
    "        print(\"yes, conditions are met\")\n",
    "        return True\n",
    "    else:\n",
    "        print(\"no, conditions not met\")\n",
    "        return False\n",
    "    \n",
    "def send_reminder(calendar_id, event, parsed_desc, parsed_reminder):    \n",
    "    msg = PARAMS[\"base_msg\"] +\\\n",
    "        get_event_dtime(event).ctime()\\\n",
    "        .replace(\"  \", \" \").replace(\" \", \", \")[:21]\n",
    "    if \"sms\" in parsed_reminder.keys():\n",
    "        send_sms(parsed_reminder[\"sms\"], msg)        \n",
    "    if \"email\" in parsed_reminder.keys():\n",
    "        send_email(to_email=parsed_reminder[\"email\"], subj=\"Appointment Reminder\",body=msg)\n",
    "    update_reminder_as_sent(calendar_id, event, parsed_desc, parsed_reminder)\n",
    "    \n",
    "def email_error_to_admin(err, admin_email, body):\n",
    "    subj = \"Appointment Reminder ERROR\"\n",
    "    send_email(admin_email, subj, body)\n",
    "\n",
    "events = get_events(100, \"primary\")\n",
    "parsed_desc = parse_desc_from_event(events[\"items\"][0])\n",
    "if parsed_desc: rebuild_desc_from_parsed(parsed_desc)\n",
    "events[\"items\"][0]"
   ]
  },
  {
   "cell_type": "code",
   "execution_count": 21,
   "metadata": {
    "collapsed": false
   },
   "outputs": [
    {
     "name": "stdout",
     "output_type": "stream",
     "text": [
      "Getting 10 upcomming events\n",
      "event: test-event @ 2017-03-05 20:00:00\n",
      "parse description from event\n",
      "No reminders found\n",
      "event: another event @ 2017-03-05 21:30:00\n",
      "parse description from event\n",
      "parse vars from notification\n",
      "parse hours from notification\n",
      "hours = 10\n",
      "parse email from notification\n",
      "email not found\n",
      "parse email from notification\n",
      "sms num = 6176863093\n",
      "parse sent status from notification\n",
      "sent = no\n",
      "parsed: [{'hours': u'10', 'sms': u'6176863093', 'sent': u'no'}]\n",
      "should send reminder?\n",
      "yes, conditions are met\n",
      "send sms to 6176863093\n",
      "Failed on event: another event @ 2017-03-05 21:30:00\n",
      "Traceback (most recent call last):\n",
      "  File \"<ipython-input-21-0a212b56c938>\", line 11, in main\n",
      "    send_reminder(calendar_id, event, parsed_desc, parsed_reminder)\n",
      "  File \"<ipython-input-20-15a5033cb5bd>\", line 252, in send_reminder\n",
      "    send_sms(parsed_reminder[\"sms\"], msg)\n",
      "  File \"<ipython-input-20-15a5033cb5bd>\", line 207, in send_sms\n",
      "    client.messages.create(to=str(to), from_=\"Dr Sivan\", body=body)\n",
      "  File \"/Users/oinbar/anaconda/lib/python2.7/site-packages/twilio/rest/resources/messages.py\", line 122, in create\n",
      "    return self.create_instance(kwargs)\n",
      "  File \"/Users/oinbar/anaconda/lib/python2.7/site-packages/twilio/rest/resources/base.py\", line 365, in create_instance\n",
      "    data=transform_params(body))\n",
      "  File \"/Users/oinbar/anaconda/lib/python2.7/site-packages/twilio/rest/resources/base.py\", line 200, in request\n",
      "    resp = make_twilio_request(method, uri, auth=self.auth, **kwargs)\n",
      "  File \"/Users/oinbar/anaconda/lib/python2.7/site-packages/twilio/rest/resources/base.py\", line 164, in make_twilio_request\n",
      "    uri=resp.url, msg=message, code=code)\n",
      "TwilioRestException: HTTP 400 error: The 'From' number Dr Sivan is not a valid phone number, shortcode, or alphanumeric sender ID.\n",
      "\n",
      "Traceback (most recent call last):\n",
      "  File \"<ipython-input-21-0a212b56c938>\", line 20, in main\n",
      "    (build_event_repr(event), str(reminder), str(err)))\n",
      "NameError: global name 'reminder' is not defined\n",
      "\n",
      "send email Appointment Reminder ERROR to inbar.orr@gmail.com\n"
     ]
    }
   ],
   "source": [
    "def main(calendar_id, n_events):\n",
    "    try:\n",
    "        events = get_events(n_events, calendar_id)\n",
    "        for event in events[\"items\"]:\n",
    "            print(\"event: \" + build_event_repr(event))\n",
    "            parsed_desc = parse_desc_from_event(event)\n",
    "            if parsed_desc:\n",
    "                for parsed_reminder in parsed_desc:\n",
    "                    try:\n",
    "                        if should_send_reminder(event, parsed_reminder): \n",
    "                            send_reminder(calendar_id, event, parsed_desc, parsed_reminder)\n",
    "                    except Exception as e:\n",
    "                        err = traceback.format_exc()\n",
    "                        print(\"Failed on event: \" + build_event_repr(event))\n",
    "                        print(err)\n",
    "                        email_error_to_admin(\n",
    "                            err, \n",
    "                            admin_email=PARAMS[\"admin_email\"], \n",
    "                            body=\"EVENT: %s\\n REMINDER_OBJ: %s\\n, ERROR: \\n%s\" %\\\n",
    "                            (build_event_repr(event), str(reminder), str(err)))\n",
    "    except Exception as e:\n",
    "        err = traceback.format_exc()\n",
    "        print(err)\n",
    "        email_error_to_admin(\n",
    "            err, \n",
    "            admin_email=PARAMS[\"admin_email\"], \n",
    "            body=\"ERROR: %s\" % err)\n",
    "    \n",
    "main(calendar_id=\"primary\", n_events=10)"
   ]
  },
  {
   "cell_type": "code",
   "execution_count": 93,
   "metadata": {
    "collapsed": false
   },
   "outputs": [
    {
     "data": {
      "text/plain": [
       "datetime.datetime(2017, 3, 5, 23, 12, tzinfo=tzoffset(None, -18000))"
      ]
     },
     "execution_count": 93,
     "metadata": {},
     "output_type": "execute_result"
    }
   ],
   "source": [
    "event_start = get_event_dtime(events[\"items\"][0])\n",
    "event_start - timedelta(hours=0.3)"
   ]
  },
  {
   "cell_type": "code",
   "execution_count": null,
   "metadata": {
    "collapsed": false
   },
   "outputs": [],
   "source": []
  },
  {
   "cell_type": "code",
   "execution_count": 201,
   "metadata": {
    "collapsed": false
   },
   "outputs": [
    {
     "data": {
      "text/plain": [
       "'2017-03-04T21:47:20.398791-05:00'"
      ]
     },
     "execution_count": 201,
     "metadata": {},
     "output_type": "execute_result"
    }
   ],
   "source": [
    "datetime.datetime.now(pytz.timezone('EST')).isoformat()"
   ]
  },
  {
   "cell_type": "code",
   "execution_count": 31,
   "metadata": {
    "collapsed": false
   },
   "outputs": [
    {
     "name": "stdout",
     "output_type": "stream",
     "text": [
      "Sat Mar  4 21:30:00 2017\n",
      "2017-03-05 13:05:06.913840-05:00\n",
      "2017-03-04 22:30:00-05:00\n"
     ]
    }
   ],
   "source": [
    "x = dateutil.parser.parse(\"2017-03-04T21:30:00-05:00\")\n",
    "y = datetime.datetime.now(pytz.timezone('EST'))\n",
    "print(x.ctime())\n",
    "print(y)\n",
    "print(x + datetime.timedelta(hours=1))"
   ]
  },
  {
   "cell_type": "code",
   "execution_count": 234,
   "metadata": {
    "collapsed": false
   },
   "outputs": [
    {
     "data": {
      "text/plain": [
       "'hi'"
      ]
     },
     "execution_count": 234,
     "metadata": {},
     "output_type": "execute_result"
    }
   ],
   "source": [
    "\"HI\".lower()"
   ]
  },
  {
   "cell_type": "code",
   "execution_count": 8,
   "metadata": {
    "collapsed": false
   },
   "outputs": [
    {
     "data": {
      "text/plain": [
       "1"
      ]
     },
     "execution_count": 8,
     "metadata": {},
     "output_type": "execute_result"
    }
   ],
   "source": [
    "x = [{\"a\":23, \"b\":24}, {\"c\":23, \"d\":24}]\n",
    "x.index({\"c\":23, \"d\":24})"
   ]
  },
  {
   "cell_type": "code",
   "execution_count": 109,
   "metadata": {
    "collapsed": false
   },
   "outputs": [
    {
     "ename": "ZeroDivisionError",
     "evalue": "integer division or modulo by zero",
     "output_type": "error",
     "traceback": [
      "\u001b[0;31m---------------------------------------------------------------------------\u001b[0m",
      "\u001b[0;31mZeroDivisionError\u001b[0m                         Traceback (most recent call last)",
      "\u001b[0;32m<ipython-input-109-39ad12e801a9>\u001b[0m in \u001b[0;36m<module>\u001b[0;34m()\u001b[0m\n\u001b[1;32m      3\u001b[0m     \u001b[0;36m3\u001b[0m\u001b[0;34m/\u001b[0m\u001b[0;36m0\u001b[0m\u001b[0;34m\u001b[0m\u001b[0m\n\u001b[1;32m      4\u001b[0m \u001b[0;32mexcept\u001b[0m \u001b[0mException\u001b[0m \u001b[0;32mas\u001b[0m \u001b[0me\u001b[0m\u001b[0;34m:\u001b[0m\u001b[0;34m\u001b[0m\u001b[0m\n\u001b[0;32m----> 5\u001b[0;31m     \u001b[0;32mraise\u001b[0m\u001b[0;34m(\u001b[0m\u001b[0me\u001b[0m\u001b[0;34m)\u001b[0m\u001b[0;34m\u001b[0m\u001b[0m\n\u001b[0m",
      "\u001b[0;31mZeroDivisionError\u001b[0m: integer division or modulo by zero"
     ]
    }
   ],
   "source": []
  },
  {
   "cell_type": "code",
   "execution_count": 105,
   "metadata": {
    "collapsed": false
   },
   "outputs": [
    {
     "ename": "ZeroDivisionError",
     "evalue": "integer division or modulo by zero",
     "output_type": "error",
     "traceback": [
      "\u001b[0;31m---------------------------------------------------------------------------\u001b[0m",
      "\u001b[0;31mZeroDivisionError\u001b[0m                         Traceback (most recent call last)",
      "\u001b[0;32m<ipython-input-105-a0641230c7a8>\u001b[0m in \u001b[0;36m<module>\u001b[0;34m()\u001b[0m\n\u001b[0;32m----> 1\u001b[0;31m \u001b[0;36m3\u001b[0m\u001b[0;34m/\u001b[0m\u001b[0;36m0\u001b[0m\u001b[0;34m\u001b[0m\u001b[0m\n\u001b[0m",
      "\u001b[0;31mZeroDivisionError\u001b[0m: integer division or modulo by zero"
     ]
    }
   ],
   "source": [
    "3/0"
   ]
  },
  {
   "cell_type": "code",
   "execution_count": 32,
   "metadata": {
    "collapsed": false
   },
   "outputs": [
    {
     "data": {
      "text/plain": [
       "{u'admin_email': u'inbar.orr@gmail.com',\n",
       " u'base_msg': u'This a reminder for your appointment with Dr. Sivan for ',\n",
       " u'gmail_account': u'drsivanpsych@gmail.com',\n",
       " u'gmail_pass': u'Oryardenjoe14',\n",
       " u'time_zone': u'EST',\n",
       " u'twilio_account_sid': u'ACc75f78bc9cbc7cbc1343ee48d58a3224',\n",
       " u'twilio_auth_token': u'5c60e8730099560570317b9b5e7bc778',\n",
       " u'twilio_number': u'+16176525726'}"
      ]
     },
     "execution_count": 32,
     "metadata": {},
     "output_type": "execute_result"
    }
   ],
   "source": [
    "import json\n",
    "\n",
    "x = \n",
    "x"
   ]
  },
  {
   "cell_type": "code",
   "execution_count": 12,
   "metadata": {
    "collapsed": false
   },
   "outputs": [
    {
     "ename": "AssertionError",
     "evalue": "",
     "output_type": "error",
     "traceback": [
      "\u001b[0;31m---------------------------------------------------------------------------\u001b[0m",
      "\u001b[0;31mAssertionError\u001b[0m                            Traceback (most recent call last)",
      "\u001b[0;32m<ipython-input-12-b7075d6836c8>\u001b[0m in \u001b[0;36m<module>\u001b[0;34m()\u001b[0m\n\u001b[0;32m----> 1\u001b[0;31m \u001b[0;32massert\u001b[0m\u001b[0;34m(\u001b[0m\u001b[0;34m\"x\"\u001b[0m \u001b[0;32min\u001b[0m \u001b[0;34m\"yz\"\u001b[0m\u001b[0;34m)\u001b[0m\u001b[0;34m\u001b[0m\u001b[0m\n\u001b[0m",
      "\u001b[0;31mAssertionError\u001b[0m: "
     ]
    }
   ],
   "source": [
    "assert(\"x\" in \"yz\")"
   ]
  },
  {
   "cell_type": "code",
   "execution_count": null,
   "metadata": {
    "collapsed": true
   },
   "outputs": [],
   "source": []
  }
 ],
 "metadata": {
  "anaconda-cloud": {},
  "kernelspec": {
   "display_name": "Python [Root]",
   "language": "python",
   "name": "Python [Root]"
  },
  "language_info": {
   "codemirror_mode": {
    "name": "ipython",
    "version": 2
   },
   "file_extension": ".py",
   "mimetype": "text/x-python",
   "name": "python",
   "nbconvert_exporter": "python",
   "pygments_lexer": "ipython2",
   "version": "2.7.12"
  }
 },
 "nbformat": 4,
 "nbformat_minor": 0
}
